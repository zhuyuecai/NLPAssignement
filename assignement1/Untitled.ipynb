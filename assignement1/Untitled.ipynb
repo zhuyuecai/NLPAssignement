{
 "cells": [
  {
   "cell_type": "code",
   "execution_count": 153,
   "metadata": {},
   "outputs": [],
   "source": [
    "import pandas as pd\n",
    "import numpy as np\n",
    "from nltk.tokenize import word_tokenize\n",
    "from nltk import pos_tag\n",
    "from nltk.corpus import stopwords\n",
    "from nltk.stem import WordNetLemmatizer\n",
    "from sklearn.preprocessing import LabelEncoder\n",
    "from collections import defaultdict\n",
    "from nltk.corpus import wordnet as wn\n",
    "from sklearn.feature_extraction.text import TfidfVectorizer\n",
    "from sklearn import model_selection, naive_bayes, svm\n",
    "from sklearn.metrics import accuracy_score\n",
    "\n",
    "np.random.seed(500)"
   ]
  },
  {
   "cell_type": "code",
   "execution_count": 154,
   "metadata": {},
   "outputs": [],
   "source": [
    "def getData(file_path):\n",
    "    \"\"\"\n",
    "    @param: file_path, str, path to the data file\n",
    "    @return: an np array with each element as a line in the file\n",
    "    \"\"\"\n",
    "    with open(file_path) as f:\n",
    "        lines=f.readlines()          \n",
    "        dd = np.array(lines)\n",
    "    return dd\n",
    "\n",
    "def getCorpus(neg, pos):\n",
    "    corpus = {\"text\": [],\n",
    "              \"label\": []}\n",
    "    corpus[\"text\"] = np.concatenate((neg, pos))\n",
    "    corpus[\"label\"] = np.array([\"-1\" for i in range(len(neg))]+[\"1\" for i in range(len(pos))], dtype='str')\n",
    "    return corpus\n",
    "\n"
   ]
  },
  {
   "cell_type": "code",
   "execution_count": 155,
   "metadata": {},
   "outputs": [],
   "source": [
    "#preprocessing\n",
    "def preprocess_entry(entry):\n",
    "    entry = entry.lower()\n",
    "    entry = word_tokenize(entry)\n",
    "    tag_map = defaultdict(lambda : wn.NOUN)\n",
    "    tag_map['J'] = wn.ADJ\n",
    "    tag_map['V'] = wn.VERB\n",
    "    tag_map['R'] = wn.ADV\n",
    "    # Initializing WordNetLemmatizer()\n",
    "    word_Lemmatized = WordNetLemmatizer()\n",
    "    # pos_tag function below will provide the 'tag' i.e if the word is Noun(N) or Verb(V) or something else.\n",
    "    Final_words = [word_Lemmatized.lemmatize(word,tag_map[tag[0]])\\\n",
    "        for word, tag in pos_tag(entry) \\\n",
    "        if word not in stopwords.words('english') and word.isalpha()]\n",
    "    return str(Final_words)"
   ]
  },
  {
   "cell_type": "code",
   "execution_count": 156,
   "metadata": {},
   "outputs": [],
   "source": [
    "def pipeline(corpus, test_size=0.3, vectorize='tfidf', classifier='NB'):\n",
    "    vectorize_options = ('tfidf', 'count')\n",
    "    cls_options = ('NB', 'SVM')\n",
    "    output_cls = {'NB': \"Naive Bayes\",\n",
    "                  'SVM': \"SVM\"}\n",
    "    #split test and training set\n",
    "    Train_X, Test_X, Train_Y, Test_Y = model_selection.train_test_split(corpus['final_text'],\n",
    "                                                                        corpus['label'],\n",
    "                                                                        test_size=test_size)\n",
    "    Encoder = LabelEncoder()\n",
    "    Train_Y = Encoder.fit_transform(Train_Y)\n",
    "    Test_Y = Encoder.fit_transform(Test_Y)\n",
    "    if vectorize == vectorize_options[0]:\n",
    "        vectorizer = TfidfVectorizer(max_features=10000)\n",
    "    vectorizer.fit(corpus['final_text'])\n",
    "    Train_X_vec = Tfidf_vect.transform(Train_X)\n",
    "    Test_X_vec = Tfidf_vect.transform(Test_X)\n",
    "    # fit the training dataset on the NB classifier\n",
    "    if classifier == cls_options[0]:\n",
    "        cls = naive_bayes.MultinomialNB()\n",
    "    elif classifier == cls_options[1]:\n",
    "        cls = svm.SVC(C=1.0, kernel='linear', degree=3, gamma='auto')\n",
    "    cls.fit(Train_X_vec,Train_Y)\n",
    "    # predict the labels on validation dataset\n",
    "    predictions = cls.predict(Test_X_vec)\n",
    "    # Use accuracy_score function to get the accuracy\n",
    "    print(output_cls[classifier], \"Accuracy Score -> \",accuracy_score(predictions, Test_Y)*100)"
   ]
  },
  {
   "cell_type": "code",
   "execution_count": 157,
   "metadata": {},
   "outputs": [
    {
     "name": "stdout",
     "output_type": "stream",
     "text": [
      "(10662,)\n",
      "(10662,)\n",
      "Naive Bayes Accuracy Score ->  75.71495546179091\n",
      "SVM Accuracy Score ->  74.63666197843412\n"
     ]
    }
   ],
   "source": [
    "if __name__ == \"__main__\":\n",
    "    #load data\n",
    "    neg = getData(\"rt-polaritydata/rt-polarity.neg\")\n",
    "    poo = getData(\"rt-polaritydata/rt-polarity.pos\")\n",
    "    corpus = getCorpus(neg,pos)\n",
    "    print(corpus['text'].shape)\n",
    "    print(corpus['label'].shape)\n",
    "    #preprocessing\n",
    "    corpus['final_text'] = [preprocess_entry(entry) for entry in corpus['text']]\n",
    "    pipeline(corpus, test_size=0.2, classifier='NB')\n",
    "    pipeline(corpus, test_size=0.2, classifier='SVM')"
   ]
  },
  {
   "cell_type": "code",
   "execution_count": null,
   "metadata": {},
   "outputs": [],
   "source": []
  }
 ],
 "metadata": {
  "kernelspec": {
   "display_name": "Python 3",
   "language": "python",
   "name": "python3"
  },
  "language_info": {
   "codemirror_mode": {
    "name": "ipython",
    "version": 3
   },
   "file_extension": ".py",
   "mimetype": "text/x-python",
   "name": "python",
   "nbconvert_exporter": "python",
   "pygments_lexer": "ipython3",
   "version": "3.6.5"
  }
 },
 "nbformat": 4,
 "nbformat_minor": 2
}
